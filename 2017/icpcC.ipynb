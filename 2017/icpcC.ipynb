{
 "cells": [
  {
   "cell_type": "code",
   "execution_count": 7,
   "metadata": {},
   "outputs": [
    {
     "name": "stdout",
     "output_type": "stream",
     "text": [
      "5 5\n",
      "1 4 0 5 2 \n",
      "2 1 2 0 1 \n",
      "0 2 3 4 4 \n",
      "0 3 0 3 1 \n",
      "1 2 2 1 1 \n",
      "0\n",
      "1\n",
      "2\n",
      "0\n",
      "1\n",
      "0\n",
      "result = 4\n"
     ]
    }
   ],
   "source": [
    "n1,n2 = map(int,input().split())\n",
    "\n",
    "l=[]\n",
    "passed = True\n",
    "for i in range(n1):\n",
    "    n = input().split()\n",
    "    if(len(n) > n2):\n",
    "        print(\"Error\")\n",
    "        passed = False\n",
    "        break;\n",
    "    l.append(n)\n",
    "if(passed):\n",
    "    print(f'{n1} {n2}')\n",
    "    # print(l)\n",
    "    for i in range(len(l)):\n",
    "        for j in range(len(l[i])):\n",
    "            print(l[i][j],end=\" \")\n",
    "        print()\n",
    "    \n",
    "    get = 0\n",
    "    for i in range(len(l)):\n",
    "        for j in range(len(l[i])):\n",
    "            if(j != 0 and i != n1-1):\n",
    "                if(l[i][0] >= l[i][j] and l[n1-1][j] >= l[i][j]):\n",
    "                    print(l[i][j])\n",
    "                    get+=int(l[i][j])\n",
    "    \n",
    "    print(f'result = {get}')"
   ]
  },
  {
   "cell_type": "code",
   "execution_count": 1,
   "metadata": {},
   "outputs": [],
   "source": [
    "def max_profit(m, n, producers, consumers):\n",
    "    # Sort producers by start day (di), and if equal, by price (pi) ascending\n",
    "    producers.sort(key=lambda x: (x[1], x[0]))\n",
    "    # Sort consumers by end day (ej), and if equal, by price (qj) descending\n",
    "    consumers.sort(key=lambda x: (x[1], -x[0]))\n",
    "    \n",
    "    max_profit = 0\n",
    "    max_consumer_price = 0\n",
    "    j = 0\n",
    "    \n",
    "    # Iterate over each producer\n",
    "    for p_price, p_start_day in producers:\n",
    "        # Update consumer prices that can be used with the current producer\n",
    "        while j < n and consumers[j][1] <= p_start_day:\n",
    "            max_consumer_price = max(max_consumer_price, consumers[j][0])\n",
    "            j += 1\n",
    "        \n",
    "        # If there's a consumer that can buy after the producer starts\n",
    "        if max_consumer_price > 0:\n",
    "            max_profit = max(max_profit, max_consumer_price - p_price)\n",
    "    \n",
    "    return max(0, max_profit)\n",
    "\n",
    "# Input reading\n",
    "import sys\n",
    "input = sys.stdin.read\n",
    "data = input().splitlines()\n",
    "\n",
    "m, n = map(int, data[0].split())\n",
    "producers = []\n",
    "consumers = []\n",
    "\n",
    "for i in range(1, m + 1):\n",
    "    pi, di = map(int, data[i].split())\n",
    "    producers.append((pi, di))\n",
    "\n",
    "for j in range(m + 1, m + n + 1):\n",
    "    qj, ej = map(int, data[j].split())\n",
    "    consumers.append((qj, ej))\n",
    "\n",
    "# Compute the maximum profit\n",
    "result = max_profit(m, n, producers, consumers)\n",
    "print(result)\n"
   ]
  }
 ],
 "metadata": {
  "kernelspec": {
   "display_name": "Python 3",
   "language": "python",
   "name": "python3"
  },
  "language_info": {
   "codemirror_mode": {
    "name": "ipython",
    "version": 3
   },
   "file_extension": ".py",
   "mimetype": "text/x-python",
   "name": "python",
   "nbconvert_exporter": "python",
   "pygments_lexer": "ipython3",
   "version": "3.12.4"
  }
 },
 "nbformat": 4,
 "nbformat_minor": 2
}
