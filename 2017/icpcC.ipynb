{
 "cells": [
  {
   "cell_type": "code",
   "execution_count": 21,
   "metadata": {},
   "outputs": [
    {
     "name": "stdout",
     "output_type": "stream",
     "text": [
      "2 3\n",
      "50 20 3 \n",
      "20 10 3 \n",
      "result = 109\n"
     ]
    }
   ],
   "source": [
    "n1,n2 = map(int,input().split())\n",
    "\n",
    "l=[]\n",
    "passed = True\n",
    "for i in range(n1):\n",
    "    n = input().split()\n",
    "    if(len(n) > n2):\n",
    "        print(\"Error\")\n",
    "        passed = False\n",
    "        break;\n",
    "    l.append(n)\n",
    "if(passed):\n",
    "    print(f'{n1} {n2}')\n",
    "    # print(l)\n",
    "    for i in range(len(l)):\n",
    "        for j in range(len(l[i])):\n",
    "            print(l[i][j],end=\" \")\n",
    "        print()\n",
    "    \n",
    "    get = 0\n",
    "    for i in range(len(l)):\n",
    "        for j in range(len(l[i])):\n",
    "            if(j != 0):\n",
    "                get+=int(l[i][j])\n",
    "            if(i != len(l)-1):\n",
    "                get+=int(l[i][j])\n",
    "    \n",
    "    print(f'result = {get}')"
   ]
  }
 ],
 "metadata": {
  "kernelspec": {
   "display_name": "Python 3",
   "language": "python",
   "name": "python3"
  },
  "language_info": {
   "codemirror_mode": {
    "name": "ipython",
    "version": 3
   },
   "file_extension": ".py",
   "mimetype": "text/x-python",
   "name": "python",
   "nbconvert_exporter": "python",
   "pygments_lexer": "ipython3",
   "version": "3.12.4"
  }
 },
 "nbformat": 4,
 "nbformat_minor": 2
}
